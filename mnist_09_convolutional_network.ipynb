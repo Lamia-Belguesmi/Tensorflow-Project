{
 "cells": [
  {
   "cell_type": "markdown",
   "metadata": {},
   "source": [
    "# Réseau neuronal convolutif"
   ]
  },
  {
   "cell_type": "markdown",
   "metadata": {},
   "source": [
    "<img src=\"cnn_diagram.png\"  style=\"width: 60%; height: 60%\"/>"
   ]
  },
  {
   "cell_type": "code",
   "execution_count": 2,
   "metadata": {},
   "outputs": [],
   "source": [
    "from __future__ import print_function\n",
    "import tensorflow as tf\n",
    "import numpy as np\n",
    "from tensorflow.keras.utils import to_categorical\n",
    "import matplotlib.pyplot as plt"
   ]
  },
  {
   "cell_type": "code",
   "execution_count": 3,
   "metadata": {},
   "outputs": [],
   "source": [
    "(x_train, y_train), (x_test, y_test) = tf.keras.datasets.mnist.load_data()\n",
    "x_train = x_train/255.\n",
    "x_test  = x_test/255.\n",
    "y_train = to_categorical(y_train, dtype='int8')\n",
    "y_test  = to_categorical(y_test, dtype='int8')\n",
    "\n",
    "train_size = x_train.shape[0] # Nombre de ligne de la matrice x_train\n",
    "test_size  = x_test.shape[0]"
   ]
  },
  {
   "cell_type": "markdown",
   "metadata": {},
   "source": [
    "## Hyperparamètres"
   ]
  },
  {
   "cell_type": "code",
   "execution_count": 4,
   "metadata": {},
   "outputs": [],
   "source": [
    "#Nombre d'époques pour l'apprentissage:\n",
    "n_epoch = 15\n",
    "\n",
    "# Taille du batch d'entraînement:\n",
    "batch_size = 100\n",
    "\n",
    "# Incrément pour l'apprentissage\n",
    "starter_learning_rate = 0.003\n",
    "# taux de décroissance du pas d'apprentissage\n",
    "decay_rate = 0.7\n",
    "# Nombre d'époques à faire avant de changer de pas\n",
    "decay_epoch = 3\n",
    "\n",
    "# dropout: taux de neurones à supprimer\n",
    "# seulement entre la couche de convolution à 12 canaux et couche de 200 neurones complètement connectée\n",
    "dropout = 0.25"
   ]
  },
  {
   "cell_type": "markdown",
   "metadata": {},
   "source": [
    "## Graphe"
   ]
  },
  {
   "cell_type": "markdown",
   "metadata": {},
   "source": [
    "Transformation de l'entrée en un tenseur à 4 dimensions pour l'utilisation dans la fonction `tf.nn.conv2d`. La dernière dimension indique le nombre de canaux d'entrée (3 pour une image en couleur, ici un seul car nos images sont en niveaux de gris)."
   ]
  },
  {
   "cell_type": "code",
   "execution_count": 5,
   "metadata": {},
   "outputs": [],
   "source": [
    "X = tf.placeholder(tf.float32, shape=(None,28,28))\n",
    "Xd = tf.reshape(X, [-1,28,28,1])"
   ]
  },
  {
   "cell_type": "markdown",
   "metadata": {},
   "source": [
    "Le tenseur W1 correspond au filtre utilisé. La troisième dimension indique le nombre de canaux d'entrée (ici 1) et la quatrième le nombre choisi de canaux de sortie. Ce nombre correspond aussi au nombre de biais qu'il faudra utiliser pour cette couche."
   ]
  },
  {
   "cell_type": "code",
   "execution_count": 6,
   "metadata": {},
   "outputs": [
    {
     "name": "stdout",
     "output_type": "stream",
     "text": [
      "WARNING:tensorflow:From /anaconda3/lib/python3.7/site-packages/tensorflow/python/framework/op_def_library.py:263: colocate_with (from tensorflow.python.framework.ops) is deprecated and will be removed in a future version.\n",
      "Instructions for updating:\n",
      "Colocations handled automatically by placer.\n"
     ]
    }
   ],
   "source": [
    "W1 = tf.Variable(tf.truncated_normal([5,5,1,4], stddev=0.1))\n",
    "# Initialisation des biais 0.1\n",
    "b1 = tf.Variable(tf.ones([4])/10)\n",
    "stride1 = 1\n",
    "Y1cnv = tf.nn.conv2d(Xd, W1, strides=[1, stride1, stride1, 1], padding='SAME')\n",
    "Y1 = tf.nn.relu(Y1cnv + b1)\n",
    "\n",
    "W2 = tf.Variable(tf.truncated_normal([4,4,4,8], stddev=0.1))\n",
    "b2 = tf.Variable(tf.ones([8])/10)\n",
    "stride2 = 2\n",
    "Y2cnv = tf.nn.conv2d(Y1, W2, strides=[1,stride2,stride2,1], padding='SAME')\n",
    "Y2 = tf.nn.relu(Y2cnv + b2)\n",
    "\n",
    "W3 = tf.Variable(tf.truncated_normal([4,4,8,12], stddev=0.1))\n",
    "b3 = tf.Variable(tf.ones([12])/10)\n",
    "stride3 = 2\n",
    "Y3cnv = tf.nn.conv2d(Y2, W3, strides=[1,stride3,stride3,1], padding='SAME')\n",
    "Y3 = tf.nn.relu(Y3cnv + b3)"
   ]
  },
  {
   "cell_type": "markdown",
   "metadata": {},
   "source": [
    "On transforme la sortie Y3 en un simple vecteur que l'on va connecter complètement à la couche suivante de 200 neurones"
   ]
  },
  {
   "cell_type": "code",
   "execution_count": 7,
   "metadata": {},
   "outputs": [],
   "source": [
    "Y3d = tf.reshape(Y3, [-1, 7*7*12])\n",
    "\n",
    "# dropout_rate: probabilité qu'un neurone soit supprimé (doit être = 0 lors de la phase de test)\n",
    "dropout_rate = tf.placeholder(tf.float32)\n",
    "W4 = tf.Variable(tf.truncated_normal([7*7*12,200], stddev=0.1))\n",
    "b4 = tf.Variable(tf.ones([200])/10)\n",
    "Y4 = tf.nn.relu(tf.matmul(Y3d,W4) + b4)\n",
    "Y4d = tf.nn.dropout(Y4, rate=dropout_rate)\n",
    "\n",
    "W5 = tf.Variable(tf.truncated_normal([200, 10], stddev=0.1))\n",
    "b5 = tf.Variable(tf.zeros([10]))\n",
    "Ylogits = tf.matmul(Y4d,W5) + b5\n",
    "Y = tf.nn.softmax(Ylogits)"
   ]
  },
  {
   "cell_type": "code",
   "execution_count": 8,
   "metadata": {},
   "outputs": [],
   "source": [
    "Y_ = tf.placeholder(tf.float32, shape=(None,10))\n",
    "cross_entropy = tf.nn.softmax_cross_entropy_with_logits_v2(logits=Ylogits, labels=Y_)\n",
    "cross_entropy = tf.reduce_sum(cross_entropy)\n",
    "\n",
    "is_correct = tf.equal(tf.argmax(Y,1), tf.argmax(Y_,1))\n",
    "accuracy = tf.reduce_mean(tf.cast(is_correct, tf.float32))\n",
    "\n",
    "global_step = tf.Variable(0, trainable=False)\n",
    "learning_rate = tf.train.exponential_decay(starter_learning_rate, global_step, decay_epoch*train_size//batch_size, decay_rate, staircase=True)\n",
    "\n",
    "# Optimisation\n",
    "optimizer = tf.train.AdamOptimizer(learning_rate)\n",
    "train_step = optimizer.minimize(cross_entropy, global_step=global_step)"
   ]
  },
  {
   "cell_type": "code",
   "execution_count": 9,
   "metadata": {},
   "outputs": [],
   "source": [
    "accuracy_train = []\n",
    "accuracy_test = []\n",
    "loss_train = []\n",
    "loss_test = []\n",
    "i_best = 0\n",
    "accuracy_best = 0"
   ]
  },
  {
   "cell_type": "code",
   "execution_count": 10,
   "metadata": {},
   "outputs": [
    {
     "name": "stdout",
     "output_type": "stream",
     "text": [
      "Epoque: \n",
      "1  2  3  4  5  6  7  8  9  10  11  12  13  14  15  "
     ]
    }
   ],
   "source": [
    "sess = tf.Session()\n",
    "\n",
    "init = tf.global_variables_initializer()\n",
    "sess.run(init)\n",
    "print('Epoque: ')\n",
    "\n",
    "for i in range(n_epoch*train_size//100):\n",
    "    epoch = (i*100)//train_size + 1\n",
    "    \n",
    "    # Chargement d'un batch d'images et de réponses correctes correspondantes\n",
    "    batch_train_X  = x_train[(i*100)%train_size:((i+1)*100)%train_size]\n",
    "    batch_train_Y_ = y_train[(i*100)%train_size:((i+1)*100)%train_size]\n",
    "    # Dictionnaire de données en entrée\n",
    "    train_data = {X: batch_train_X, Y_: batch_train_Y_, dropout_rate:dropout}\n",
    "\n",
    "    # train\n",
    "    sess.run(train_step, feed_dict=train_data)\n",
    "    \n",
    "    # Visualisation de la progression\n",
    "    if not (i*100)%(train_size):\n",
    "        #Affichage de l'évolution en ligne\n",
    "        print(epoch, ' ', end='')\n",
    "    if not i%50:\n",
    "        # Pour le batch d'entraînement\n",
    "        acc, loss  = sess.run([accuracy, cross_entropy], feed_dict=train_data)\n",
    "        accuracy_train.append(acc)\n",
    "        loss_train.append(loss/batch_size)\n",
    "        \n",
    "        # Pour le test: évaluation sur tout l'ensemble des données\n",
    "        test_data = {X: x_test, Y_: y_test, dropout_rate:0}\n",
    "        acc, loss = sess.run([accuracy, cross_entropy], feed_dict=test_data)\n",
    "        accuracy_test.append(acc)\n",
    "        loss_test.append(loss/test_size)\n",
    "        if acc>accuracy_best:\n",
    "            accuracy_best = acc\n",
    "            i_best = i"
   ]
  },
  {
   "cell_type": "code",
   "execution_count": 11,
   "metadata": {},
   "outputs": [
    {
     "data": {
      "image/png": "[encoded data removed]",
      "text/plain": [
       "<Figure size 432x288 with 1 Axes>"
      ]
     },
     "metadata": {
      "needs_background": "light"
     },
     "output_type": "display_data"
    },
    {
     "data": {
      "image/png": "[encoded data removed]",
      "text/plain": [
       "<Figure size 432x288 with 1 Axes>"
      ]
     },
     "metadata": {
      "needs_background": "light"
     },
     "output_type": "display_data"
    },
    {
     "name": "stdout",
     "output_type": "stream",
     "text": [
      "Best score for iteration 8100 \t| Accuracy = 0.9915\n"
     ]
    }
   ],
   "source": [
    "# Représentation des résultats\n",
    "# Précision\n",
    "plt.plot(accuracy_test, c='coral', label='test')\n",
    "plt.plot(accuracy_train, c='steelblue', label='train')\n",
    "plt.xlabel('i//50')\n",
    "plt.title('Précision')\n",
    "plt.legend(bbox_to_anchor=(1.05, 1), loc='upper left', borderaxespad=0.)\n",
    "plt.show()\n",
    "# Fonction de coût\n",
    "plt.plot(loss_test, c='coral', label='test')\n",
    "plt.plot(loss_train, c='steelblue', label='train')\n",
    "plt.title('Entropie croisée moyenne')\n",
    "plt.legend(bbox_to_anchor=(1.05, 1), loc='upper left', borderaxespad=0.)\n",
    "plt.show()\n",
    "# Meilleur résultat sur un batch de test\n",
    "print(\"Best score for iteration {} \\t| Accuracy = {:.4f}\".format(i_best, accuracy_best ))"
   ]
  },
  {
   "cell_type": "code",
   "execution_count": 12,
   "metadata": {},
   "outputs": [],
   "source": [
    "sess.close()"
   ]
  },
  {
   "cell_type": "markdown",
   "metadata": {},
   "source": [
    "Best score for iteration 8100 \t| Accuracy = 0.9915"
   ]
  },
  {
   "cell_type": "code",
   "execution_count": null,
   "metadata": {},
   "outputs": [],
   "source": []
  }
 ],
 "metadata": {
  "kernelspec": {
   "display_name": "Python 3",
   "language": "python",
   "name": "python3"
  },
  "language_info": {
   "codemirror_mode": {
    "name": "ipython",
    "version": 3
   },
   "file_extension": ".py",
   "mimetype": "text/x-python",
   "name": "python",
   "nbconvert_exporter": "python",
   "pygments_lexer": "ipython3",
   "version": "3.7.1"
  }
 },
 "nbformat": 4,
 "nbformat_minor": 2
}
