{
 "cells": [
  {
   "cell_type": "markdown",
   "metadata": {},
   "source": [
    "# Réseau neuronal convolutif - Théorie"
   ]
  },
  {
   "cell_type": "markdown",
   "metadata": {},
   "source": [
    "Convolutional Neural Network (CNN)"
   ]
  },
  {
   "cell_type": "markdown",
   "metadata": {},
   "source": [
    "Un des problèmes de la réalisation précédente est que l'information sur la structure de l'image et les formes qui la compose a été complètement dégradée lors de la transformation de l'image [28,28] en un simple vecteur [784]. Pour remédier à ce problème on utilise des produits de convolution sur la matrice initiale et éventuellement sur les tenseurs résultants. Ces techniques doivent nous permettre de dépasser les 99% de réussite sur l'ensemble d'entraînement. Les produits de convolution vont permettre de déterminer des filtres qui correspondent à des traits caractérisques de l'entrée (features)."
   ]
  },
  {
   "cell_type": "markdown",
   "metadata": {},
   "source": [
    "## Produit de convolution"
   ]
  },
  {
   "cell_type": "markdown",
   "metadata": {},
   "source": [
    "On fait évoluer un filtre sur la matrice initiale I, et sur chaque zone on fait le produit de convolution avec le filtre en question."
   ]
  },
  {
   "cell_type": "markdown",
   "metadata": {},
   "source": [
    "<img src=\"convolution_product.png\"  style=\"width: 40%; height: 40%\"/>"
   ]
  },
  {
   "cell_type": "markdown",
   "metadata": {},
   "source": [
    "Le filtre est toujours le même sur l'ensemble de la matrice, mais on va essayer d'en déterminer plusieurs pour pouvoir prendre en compte les différentes caractéristiques de notre entrée. Ce seront des nouveaux tenseurs W dont on va chercher à déterminer les valeurs par apprentissage. Par exemple si l'on cherche 3 traits on aura W=(K1,K2,K3)."
   ]
  },
  {
   "cell_type": "markdown",
   "metadata": {},
   "source": [
    "## Détermination des traits caractéristiques"
   ]
  },
  {
   "cell_type": "markdown",
   "metadata": {},
   "source": [
    "Le produit de convolution va nous donner un grand chiffre lorsque la forme sur la matrice d'entrée correspond à celle du filtre. L'exemple graphique suivant illustre comment fonctionne un filtre qui détermine si l'on a une courbe donnée."
   ]
  },
  {
   "cell_type": "markdown",
   "metadata": {},
   "source": [
    "<img src=\"filter1.png\"  style=\"width: 60%; height: 60%\"/>"
   ]
  },
  {
   "cell_type": "markdown",
   "metadata": {},
   "source": [
    "<img src=\"filter2.png\"  style=\"width: 60%; height: 60%\"/>"
   ]
  },
  {
   "cell_type": "markdown",
   "metadata": {},
   "source": [
    "<img src=\"filter3.png\"  style=\"width: 60%; height: 60%\"/>"
   ]
  },
  {
   "cell_type": "markdown",
   "metadata": {},
   "source": [
    "<img src=\"filter4.png\"  style=\"width: 60%; height: 60%\"/>"
   ]
  },
  {
   "cell_type": "markdown",
   "metadata": {},
   "source": [
    "## Stride"
   ]
  },
  {
   "cell_type": "markdown",
   "metadata": {},
   "source": [
    "Le décalage utilisé pour faire évoluer le filtre sur la matrice correspond au paramètre `stride` (qui peut éventuellement être différent selon les axes). Par exemple pour un stride=1:"
   ]
  },
  {
   "cell_type": "markdown",
   "metadata": {},
   "source": [
    "<img src=\"stride1.png\"  style=\"width: 60%; height: 60%\"/>"
   ]
  },
  {
   "cell_type": "markdown",
   "metadata": {},
   "source": [
    "Pour un stride=2:"
   ]
  },
  {
   "cell_type": "markdown",
   "metadata": {},
   "source": [
    "<img src=\"stride2.png\"  style=\"width: 60%; height: 60%\"/>"
   ]
  },
  {
   "cell_type": "markdown",
   "metadata": {},
   "source": [
    "## Padding"
   ]
  },
  {
   "cell_type": "markdown",
   "metadata": {},
   "source": [
    "Pour prendre en compte les bordures on ajoute un contour à la matrice initale (ou au tenseur si l'on prend en compte les 3 couches pour les différentes couleurs)"
   ]
  },
  {
   "cell_type": "markdown",
   "metadata": {},
   "source": [
    "<img src=\"padding.png\"  style=\"width: 75%; height: 75%\"/>"
   ]
  },
  {
   "cell_type": "markdown",
   "metadata": {},
   "source": [
    "## Notations utilisées par tensorflow"
   ]
  },
  {
   "cell_type": "markdown",
   "metadata": {},
   "source": [
    "Pour une couche convolutive de notre réseau neuroanl, on va chercher à déterminer le tenseur filtre"
   ]
  },
  {
   "cell_type": "markdown",
   "metadata": {},
   "source": [
    "`W[lines, columns, input_channels, outpout_channels]`"
   ]
  },
  {
   "cell_type": "markdown",
   "metadata": {},
   "source": [
    "`outpout_channels` correspond au nombre de fois où l'on applique un filtre aux données d'entrée."
   ]
  },
  {
   "cell_type": "markdown",
   "metadata": {},
   "source": [
    "<img src=\"convolution.png\"  style=\"width: 60%; height: 60%\"/>"
   ]
  },
  {
   "cell_type": "markdown",
   "metadata": {},
   "source": [
    "<img src=\"filter_tensor.png\"  style=\"width: 30%; height: 30%\"/>"
   ]
  },
  {
   "cell_type": "markdown",
   "metadata": {},
   "source": [
    "Valeur de la sortie Y:"
   ]
  },
  {
   "cell_type": "markdown",
   "metadata": {},
   "source": [
    "$$Y = relu(conv(X,W) + b)$$"
   ]
  },
  {
   "cell_type": "markdown",
   "metadata": {},
   "source": [
    "## Max pooling et stride 2"
   ]
  },
  {
   "cell_type": "markdown",
   "metadata": {},
   "source": [
    "Pour réduire le données en sortie, on peut utiliser la technique du max pooling qui correspond à faire évoluer sur la matrice résultante un filtre qui extrait à chaque fois seulement le plus grand nombre de la zone en question (sans que les zones se superposent). En réalité la technique de convolution avec un stride de 2 permet aussi de réduire le nombre de valeurs en sortie et la recherche nous a montré que c'était tout aussi efficace."
   ]
  },
  {
   "cell_type": "code",
   "execution_count": null,
   "metadata": {},
   "outputs": [],
   "source": []
  }
 ],
 "metadata": {
  "kernelspec": {
   "display_name": "Python 3",
   "language": "python",
   "name": "python3"
  },
  "language_info": {
   "codemirror_mode": {
    "name": "ipython",
    "version": 3
   },
   "file_extension": ".py",
   "mimetype": "text/x-python",
   "name": "python",
   "nbconvert_exporter": "python",
   "pygments_lexer": "ipython3",
   "version": "3.7.1"
  }
 },
 "nbformat": 4,
 "nbformat_minor": 2
}
