{
 "cells": [
  {
   "cell_type": "code",
   "execution_count": 15,
   "metadata": {},
   "outputs": [],
   "source": [
    "from __future__ import print_function"
   ]
  },
  {
   "cell_type": "markdown",
   "metadata": {},
   "source": [
    "# Optimisations pour les réseaux neuronaux profonds"
   ]
  },
  {
   "cell_type": "markdown",
   "metadata": {},
   "source": [
    "## ReLU - Rectified Linear Unit"
   ]
  },
  {
   "cell_type": "markdown",
   "metadata": {},
   "source": [
    "L'utilisation de la fonction sigmoïde peut s'avérer problématique car toutes les sorties des neurones sont comprises entre 0 et 1, ce qui peut amener à des sorties et des gradients qui deviennent non significatifs. On préfère dorénavant utiliser la fonction ReLU `tf.nn.relu`"
   ]
  },
  {
   "cell_type": "code",
   "execution_count": 16,
   "metadata": {},
   "outputs": [
    {
     "data": {
      "image/png": "[encoded data removed]",
      "text/plain": [
       "<Figure size 432x288 with 1 Axes>"
      ]
     },
     "metadata": {
      "needs_background": "light"
     },
     "output_type": "display_data"
    }
   ],
   "source": [
    "import numpy as np\n",
    "import matplotlib.pyplot as plt\n",
    "\n",
    "x = np.arange(-2, 2, .1)\n",
    "zero = np.zeros(len(x))\n",
    "y = np.max([zero, x], axis=0)\n",
    "\n",
    "fig = plt.figure()\n",
    "ax = fig.add_subplot(111)\n",
    "ax.plot(x, y)\n",
    "ax.set_ylim([-1.0, 2.0])\n",
    "ax.set_xlim([-2.0, 2.0])\n",
    "ax.grid(True)\n",
    "ax.set_title('Rectified linear unit')\n",
    "\n",
    "plt.show()"
   ]
  },
  {
   "cell_type": "markdown",
   "metadata": {},
   "source": [
    "## Fonction d'optimisation"
   ]
  },
  {
   "cell_type": "markdown",
   "metadata": {},
   "source": [
    "Il est possible aussi d'utiliser une meilleur fonction d'optimisation que le `tf.train.GradientDescentOptimiser` afin d'éviter les états d'équilibre où le gradient est nul mais la zone ne correspond pas à un minimum local (l'équivalent d'un col en montagne). On utilise une forme d'inertie pour passer ce genre de points comme par exemple avec la fonction `tf.train.AdamOptimizer`."
   ]
  },
  {
   "cell_type": "markdown",
   "metadata": {},
   "source": [
    "## Initialisation"
   ]
  },
  {
   "cell_type": "markdown",
   "metadata": {},
   "source": [
    "En plus de l'initialisation aléatoire des poids selon une loi normale, il est d'usage d'initialiser l'ensemble des biais à une faible valeur positive (0.1 par exemple) lorsque l'on travaille avec ReLU comme fonction d'activation afin d'éviter de travailler dans la zone où la réponse reste égale à 0."
   ]
  },
  {
   "cell_type": "markdown",
   "metadata": {},
   "source": [
    "## Pas d'apprentissage dégressif"
   ]
  },
  {
   "cell_type": "markdown",
   "metadata": {},
   "source": [
    "Il est aussi possible de faire décroître progressivement le pas d'apprentissage (learning rate) afin de diminuer la vitesse d'apprentissage lorsque l'on s'approche du minimum. `tf.train.exponential_decay`"
   ]
  },
  {
   "cell_type": "markdown",
   "metadata": {},
   "source": [
    "On définit le pas initial, puis tous les x passages on multiplie par un taux."
   ]
  },
  {
   "cell_type": "markdown",
   "metadata": {},
   "source": [
    "$ learning\\_rate = starter\\_learning\\_rate * decay\\_rate^{\\frac{global\\_step}{decay\\_steps}}$"
   ]
  },
  {
   "cell_type": "markdown",
   "metadata": {},
   "source": [
    "La variable global_step indique combien de fois on exécute l'apprentissage. Quand le paramètre staircase=True, on fait une division entière dans la formule, ce qui permet une décroissance en escalier."
   ]
  },
  {
   "cell_type": "markdown",
   "metadata": {},
   "source": [
    "## Entropie croisée et log(0)"
   ]
  },
  {
   "cell_type": "markdown",
   "metadata": {},
   "source": [
    "<img src=\"log_0.png\"  style=\"width: 40%; height: 40%\"/>"
   ]
  },
  {
   "cell_type": "markdown",
   "metadata": {},
   "source": [
    "Pour de très faibles valeurs de Y, le calcul de l'entropie croisée implique un log sur les valeurs de sortie de la couche de neurones avec softmax.La formule a tendance à retourner des NaN (not a number) car elle essaie de calculer log(0). Au lieu de la fonction softmax classique on utilise la fonction `softmax_cross_entropy_with_logits_v2` qui permet de calculer à la fois softmax et l'entropie croisée de manière stable numériquement."
   ]
  },
  {
   "cell_type": "markdown",
   "metadata": {},
   "source": [
    "## Reformulation du réseau neuronal à 5 couches"
   ]
  },
  {
   "cell_type": "markdown",
   "metadata": {},
   "source": [
    "## Imports et données"
   ]
  },
  {
   "cell_type": "code",
   "execution_count": 17,
   "metadata": {},
   "outputs": [],
   "source": [
    "import tensorflow as tf\n",
    "import numpy as np\n",
    "from tensorflow.keras.utils import to_categorical\n",
    "import matplotlib.pyplot as plt"
   ]
  },
  {
   "cell_type": "code",
   "execution_count": 18,
   "metadata": {},
   "outputs": [],
   "source": [
    "(x_train, y_train), (x_test, y_test) = tf.keras.datasets.mnist.load_data()\n",
    "x_train = x_train/255.\n",
    "x_test  = x_test/255.\n",
    "y_train = to_categorical(y_train, dtype='int8')\n",
    "y_test  = to_categorical(y_test, dtype='int8')\n",
    "\n",
    "train_size = x_train.shape[0] # Nombre de ligne de la matrice x_train\n",
    "test_size  = x_test.shape[0]"
   ]
  },
  {
   "cell_type": "markdown",
   "metadata": {},
   "source": [
    "## Hyperparamètres"
   ]
  },
  {
   "cell_type": "code",
   "execution_count": 19,
   "metadata": {},
   "outputs": [],
   "source": [
    "#Nombre d'époques pour l'apprentissage:\n",
    "n_epoch = 16\n",
    "\n",
    "# Taille du batch d'entraînement:\n",
    "batch_size = 100\n",
    "\n",
    "# Incrément pour l'apprentissage\n",
    "starter_learning_rate = 0.003\n",
    "# taux de décroissance du pas d'apprentissage\n",
    "decay_rate = 0.5\n",
    "# Nombre d'époques à faire avant de changer de pas\n",
    "decay_epoch = 4"
   ]
  },
  {
   "cell_type": "markdown",
   "metadata": {},
   "source": [
    "## Graphe"
   ]
  },
  {
   "cell_type": "code",
   "execution_count": 20,
   "metadata": {},
   "outputs": [],
   "source": [
    "X = tf.placeholder(tf.float32, shape=(None,28,28))\n",
    "Xv = tf.reshape(X, [-1, 784])\n",
    "\n",
    "W1 = tf.Variable(tf.truncated_normal([784,200], stddev=0.1))\n",
    "# Initialisation des biais 0.1\n",
    "b1 = tf.Variable(tf.ones([200])/10)\n",
    "Y1 = tf.nn.relu(tf.matmul(Xv,W1) + b1)\n",
    "\n",
    "W2 = tf.Variable(tf.truncated_normal([200,100], stddev=0.1))\n",
    "b2 = tf.Variable(tf.ones([100])/10)\n",
    "Y2 = tf.nn.relu(tf.matmul(Y1,W2) + b2)\n",
    "\n",
    "W3 = tf.Variable(tf.truncated_normal([100,60], stddev=0.1))\n",
    "b3 = tf.Variable(tf.ones([60])/10)\n",
    "Y3 = tf.nn.relu(tf.matmul(Y2,W3) + b3)\n",
    "\n",
    "W4 = tf.Variable(tf.truncated_normal([60,30], stddev=0.1))\n",
    "b4 = tf.Variable(tf.ones([30])/10)\n",
    "Y4 = tf.nn.relu(tf.matmul(Y3,W4) + b4)\n",
    "\n",
    "W5 = tf.Variable(tf.truncated_normal([30, 10], stddev=0.1))\n",
    "b5 = tf.Variable(tf.zeros([10]))\n",
    "Ylogits = tf.matmul(Y4,W5) + b5\n",
    "Y = tf.nn.softmax(Ylogits)"
   ]
  },
  {
   "cell_type": "code",
   "execution_count": 21,
   "metadata": {},
   "outputs": [],
   "source": [
    "Y_ = tf.placeholder(tf.float32, shape=(None,10))\n",
    "cross_entropy = tf.nn.softmax_cross_entropy_with_logits_v2(logits=Ylogits, labels=Y_)\n",
    "cross_entropy = tf.reduce_sum(cross_entropy)\n",
    "\n",
    "is_correct = tf.equal(tf.argmax(Y,1), tf.argmax(Y_,1))\n",
    "accuracy = tf.reduce_mean(tf.cast(is_correct, tf.float32))"
   ]
  },
  {
   "cell_type": "markdown",
   "metadata": {},
   "source": [
    "# Pas d'apprentissage décroissant\n",
    "- diminution de `decay_rate` toutes les `decay_epoch` époques soit `decay_epoch*train_size//batch_size` batchs vus\n",
    "- `global_step` est incrémenté de 1 à chaque batch vu"
   ]
  },
  {
   "cell_type": "code",
   "execution_count": 22,
   "metadata": {},
   "outputs": [],
   "source": [
    "global_step = tf.Variable(0, trainable=False)\n",
    "learning_rate = tf.train.exponential_decay(starter_learning_rate, global_step, decay_epoch*train_size//batch_size, decay_rate, staircase=True)\n",
    "\n",
    "# Changement de fonction d'optimisation\n",
    "optimizer = tf.train.AdamOptimizer(learning_rate)\n",
    "train_step = optimizer.minimize(cross_entropy, global_step=global_step)"
   ]
  },
  {
   "cell_type": "markdown",
   "metadata": {},
   "source": [
    "## Entraînement"
   ]
  },
  {
   "cell_type": "code",
   "execution_count": 26,
   "metadata": {},
   "outputs": [],
   "source": [
    "accuracy_train = []\n",
    "accuracy_test = []\n",
    "loss_train = []\n",
    "loss_test = []\n",
    "i_best = 0\n",
    "accuracy_best = 0"
   ]
  },
  {
   "cell_type": "code",
   "execution_count": 27,
   "metadata": {},
   "outputs": [],
   "source": [
    "# Tableau pour la visualisation de l'évolution du pas d'apprentissage\n",
    "lr_train = []"
   ]
  },
  {
   "cell_type": "code",
   "execution_count": 28,
   "metadata": {},
   "outputs": [
    {
     "name": "stdout",
     "output_type": "stream",
     "text": [
      "Epoque: \n",
      "1  2  3  4  5  6  7  8  9  10  11  12  13  14  15  16  "
     ]
    }
   ],
   "source": [
    "sess = tf.Session()\n",
    "\n",
    "init = tf.global_variables_initializer()\n",
    "sess.run(init)\n",
    "print('Epoque: ')\n",
    "\n",
    "for i in range(n_epoch*train_size//100):\n",
    "    epoch = (i*100)//train_size + 1\n",
    "    \n",
    "    # Chargement d'un batch d'images et de réponses correctes correspondantes\n",
    "    batch_train_X  = x_train[(i*100)%train_size:((i+1)*100)%train_size]\n",
    "    batch_train_Y_ = y_train[(i*100)%train_size:((i+1)*100)%train_size]\n",
    "    # Dictionnaire de données en entrée\n",
    "    train_data = {X: batch_train_X, Y_: batch_train_Y_}\n",
    "\n",
    "    # train\n",
    "    sess.run(train_step, feed_dict=train_data)\n",
    "    \n",
    "    # Visualisation de la progression\n",
    "    if not (i*100)%(train_size):\n",
    "        #Affichage de l'évolution en ligne\n",
    "        print(epoch, ' ', end='')\n",
    "    if not i%50:\n",
    "        # Pour le batch d'entraînement\n",
    "        acc, loss, lr = sess.run([accuracy, cross_entropy, learning_rate], feed_dict=train_data)\n",
    "        accuracy_train.append(acc)\n",
    "        loss_train.append(loss/batch_size)\n",
    "        lr_train.append(lr)\n",
    "        \n",
    "        # Pour le test: évaluation sur tout l'ensemble des données\n",
    "        test_data = {X: x_test, Y_: y_test}\n",
    "        acc, loss = sess.run([accuracy, cross_entropy], feed_dict=test_data)\n",
    "        accuracy_test.append(acc)\n",
    "        loss_test.append(loss/test_size)\n",
    "        if acc>accuracy_best:\n",
    "            accuracy_best = acc\n",
    "            i_best = i"
   ]
  },
  {
   "cell_type": "code",
   "execution_count": 29,
   "metadata": {},
   "outputs": [
    {
     "data": {
      "image/png": "[encoded data removed]",
      "text/plain": [
       "<Figure size 432x288 with 1 Axes>"
      ]
     },
     "metadata": {
      "needs_background": "light"
     },
     "output_type": "display_data"
    },
    {
     "data": {
      "image/png": "[encoded data removed]",
      "text/plain": [
       "<Figure size 432x288 with 1 Axes>"
      ]
     },
     "metadata": {
      "needs_background": "light"
     },
     "output_type": "display_data"
    },
    {
     "name": "stdout",
     "output_type": "stream",
     "text": [
      "Best score for iteration 8800 \t| Accuracy = 0.9844\n"
     ]
    }
   ],
   "source": [
    "# Représentation des résultats\n",
    "# Précision\n",
    "plt.plot(accuracy_test, c='coral', label='test')\n",
    "plt.plot(accuracy_train, c='steelblue', label='train')\n",
    "plt.xlabel('i//50')\n",
    "plt.title('Précision')\n",
    "plt.legend(bbox_to_anchor=(1.05, 1), loc='upper left', borderaxespad=0.)\n",
    "plt.show()\n",
    "# Fonction de coût\n",
    "plt.plot(loss_test, c='coral', label='test')\n",
    "plt.plot(loss_train, c='steelblue', label='train')\n",
    "plt.title('Entropie croisée moyenne')\n",
    "plt.legend(bbox_to_anchor=(1.05, 1), loc='upper left', borderaxespad=0.)\n",
    "plt.show()\n",
    "# Meilleur résultat sur un batch de test\n",
    "print(\"Best score for iteration {} \\t| Accuracy = {:.4f}\".format(i_best, accuracy_best ))"
   ]
  },
  {
   "cell_type": "markdown",
   "metadata": {},
   "source": [
    "Meilleure précision au bout de 8800 itérations: 98,4. Légèrement variable d'un coup à l'autre, certainement dû aux conditions initiales définies aléatoirement."
   ]
  },
  {
   "cell_type": "code",
   "execution_count": 30,
   "metadata": {},
   "outputs": [],
   "source": [
    "sess.close()"
   ]
  },
  {
   "cell_type": "code",
   "execution_count": 31,
   "metadata": {},
   "outputs": [
    {
     "data": {
      "image/png": "[encoded data removed]",
      "text/plain": [
       "<Figure size 432x288 with 1 Axes>"
      ]
     },
     "metadata": {
      "needs_background": "light"
     },
     "output_type": "display_data"
    }
   ],
   "source": [
    "plt.title('Evolution du pas d\\'apprentissage')\n",
    "plt.plot(lr_train, c='coral')\n",
    "plt.show()"
   ]
  },
  {
   "cell_type": "code",
   "execution_count": null,
   "metadata": {},
   "outputs": [],
   "source": []
  }
 ],
 "metadata": {
  "kernelspec": {
   "display_name": "Python 3",
   "language": "python",
   "name": "python3"
  },
  "language_info": {
   "codemirror_mode": {
    "name": "ipython",
    "version": 3
   },
   "file_extension": ".py",
   "mimetype": "text/x-python",
   "name": "python",
   "nbconvert_exporter": "python",
   "pygments_lexer": "ipython3",
   "version": "3.7.1"
  }
 },
 "nbformat": 4,
 "nbformat_minor": 2
}
