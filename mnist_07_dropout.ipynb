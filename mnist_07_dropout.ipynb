{
 "cells": [
  {
   "cell_type": "markdown",
   "metadata": {},
   "source": [
    "# Overfitting et dropout"
   ]
  },
  {
   "cell_type": "markdown",
   "metadata": {},
   "source": [
    "Gestion du sur-apprentissage avec la suppression de la réponse de certains neurones."
   ]
  },
  {
   "cell_type": "markdown",
   "metadata": {},
   "source": [
    "## Overfitting"
   ]
  },
  {
   "cell_type": "markdown",
   "metadata": {},
   "source": [
    "Lors de la réalisation précédente, on remarque qu'il y a une divergence entre les courbes d'entropie des jeux de test et d'entraînement. Cela n'affecte pas la précision du modèle, mais montre que l'entraînement n'a plus d'effet positif. Ceci est dû au fait que notre modèle a trop de degrés de liberté et a tendance à \"sur-apprendre\" sur le jeu d'entraînement. Pour éviter cela on utilise la technique du dropout qui supprime arbitrairement un certain taux de neurones à chaque passage."
   ]
  },
  {
   "cell_type": "markdown",
   "metadata": {},
   "source": [
    "<img src=\"overfitting.png\"  style=\"width: 40%; height: 40%\"/>"
   ]
  },
  {
   "cell_type": "markdown",
   "metadata": {},
   "source": [
    "## Dropout"
   ]
  },
  {
   "cell_type": "markdown",
   "metadata": {},
   "source": [
    "`tf.nn.dropout` permet d'appliquer cette solution de \"suppression\" de neurones. En réalité la valeur de sortie est mise à 0. Cette fonction s'applique en sortie d'une couche de neurones. On passe en paramètre `rate` qui indique la probabilité qu'un neurone soit supprimé (doit être = 0 lors de la phase de test)."
   ]
  },
  {
   "cell_type": "markdown",
   "metadata": {},
   "source": [
    "<img src=\"dropout.png\"  style=\"width: 40%; height: 40%\"/>"
   ]
  },
  {
   "cell_type": "markdown",
   "metadata": {},
   "source": [
    "## Reformulation du réseau neuronal à 5 couches"
   ]
  },
  {
   "cell_type": "code",
   "execution_count": 27,
   "metadata": {},
   "outputs": [],
   "source": [
    "from __future__ import print_function\n",
    "import tensorflow as tf\n",
    "import numpy as np\n",
    "from tensorflow.keras.utils import to_categorical\n",
    "import matplotlib.pyplot as plt"
   ]
  },
  {
   "cell_type": "code",
   "execution_count": 28,
   "metadata": {},
   "outputs": [],
   "source": [
    "(x_train, y_train), (x_test, y_test) = tf.keras.datasets.mnist.load_data()\n",
    "x_train = x_train/255.\n",
    "x_test  = x_test/255.\n",
    "y_train = to_categorical(y_train, dtype='int8')\n",
    "y_test  = to_categorical(y_test, dtype='int8')\n",
    "\n",
    "train_size = x_train.shape[0] # Nombre de ligne de la matrice x_train\n",
    "test_size  = x_test.shape[0]"
   ]
  },
  {
   "cell_type": "code",
   "execution_count": 29,
   "metadata": {},
   "outputs": [],
   "source": [
    "#Nombre d'époques pour l'apprentissage:\n",
    "n_epoch = 30\n",
    "\n",
    "# Taille du batch d'entraînement:\n",
    "batch_size = 100\n",
    "\n",
    "# Incrément pour l'apprentissage\n",
    "starter_learning_rate = 0.003\n",
    "# taux de décroissance du pas d'apprentissage\n",
    "decay_rate = 0.6\n",
    "# Nombre d'époques à faire avant de changer de pas\n",
    "decay_epoch = 5"
   ]
  },
  {
   "cell_type": "code",
   "execution_count": 30,
   "metadata": {},
   "outputs": [],
   "source": [
    "X = tf.placeholder(tf.float32, shape=(None,28,28))\n",
    "Xv = tf.reshape(X, [-1, 784])\n",
    "\n",
    "# dropout_rate: probabilité qu'un neurone soit supprimé (doit être = 0 lors de la phase de test)\n",
    "dropout_rate = tf.placeholder(tf.float32)\n",
    "\n",
    "W1 = tf.Variable(tf.truncated_normal([784,200], stddev=0.1))\n",
    "# Initialisation des biais 0.1\n",
    "b1 = tf.Variable(tf.ones([200])/10)\n",
    "Y1 = tf.nn.relu(tf.matmul(Xv,W1) + b1)\n",
    "Y1d = tf.nn.dropout(Y1, rate=dropout_rate)\n",
    "\n",
    "W2 = tf.Variable(tf.truncated_normal([200,100], stddev=0.1))\n",
    "b2 = tf.Variable(tf.ones([100])/10)\n",
    "Y2 = tf.nn.relu(tf.matmul(Y1d,W2) + b2)\n",
    "Y2d = tf.nn.dropout(Y2, rate=dropout_rate)\n",
    "\n",
    "W3 = tf.Variable(tf.truncated_normal([100,60], stddev=0.1))\n",
    "b3 = tf.Variable(tf.ones([60])/10)\n",
    "Y3 = tf.nn.relu(tf.matmul(Y2d,W3) + b3)\n",
    "Y3d = tf.nn.dropout(Y3, rate=dropout_rate)\n",
    "\n",
    "W4 = tf.Variable(tf.truncated_normal([60,30], stddev=0.1))\n",
    "b4 = tf.Variable(tf.ones([30])/10)\n",
    "Y4 = tf.nn.relu(tf.matmul(Y3d,W4) + b4)\n",
    "Y4d = tf.nn.dropout(Y4, rate=dropout_rate)\n",
    "\n",
    "W5 = tf.Variable(tf.truncated_normal([30, 10], stddev=0.1))\n",
    "b5 = tf.Variable(tf.zeros([10]))\n",
    "Ylogits = tf.matmul(Y4d,W5) + b5\n",
    "Y = tf.nn.softmax(Ylogits)"
   ]
  },
  {
   "cell_type": "code",
   "execution_count": 31,
   "metadata": {},
   "outputs": [],
   "source": [
    "Y_ = tf.placeholder(tf.float32, shape=(None,10))\n",
    "cross_entropy = tf.nn.softmax_cross_entropy_with_logits_v2(logits=Ylogits, labels=Y_)\n",
    "cross_entropy = tf.reduce_sum(cross_entropy)\n",
    "\n",
    "is_correct = tf.equal(tf.argmax(Y,1), tf.argmax(Y_,1))\n",
    "accuracy = tf.reduce_mean(tf.cast(is_correct, tf.float32))\n",
    "\n",
    "global_step = tf.Variable(0, trainable=False)\n",
    "learning_rate = tf.train.exponential_decay(starter_learning_rate, global_step, decay_epoch*train_size//batch_size, decay_rate, staircase=True)\n",
    "\n",
    "# Optimisation\n",
    "optimizer = tf.train.AdamOptimizer(learning_rate)\n",
    "train_step = optimizer.minimize(cross_entropy, global_step=global_step)"
   ]
  },
  {
   "cell_type": "code",
   "execution_count": 32,
   "metadata": {},
   "outputs": [],
   "source": [
    "accuracy_train = []\n",
    "accuracy_test = []\n",
    "loss_train = []\n",
    "loss_test = []\n",
    "i_best = 0\n",
    "accuracy_best = 0"
   ]
  },
  {
   "cell_type": "code",
   "execution_count": 33,
   "metadata": {},
   "outputs": [
    {
     "name": "stdout",
     "output_type": "stream",
     "text": [
      "Epoque: \n",
      "1  2  3  4  5  6  7  8  9  10  11  12  13  14  15  16  17  18  19  20  21  22  23  24  25  26  27  28  29  30  "
     ]
    }
   ],
   "source": [
    "sess = tf.Session()\n",
    "\n",
    "init = tf.global_variables_initializer()\n",
    "sess.run(init)\n",
    "print('Epoque: ')\n",
    "\n",
    "for i in range(n_epoch*train_size//100):\n",
    "    epoch = (i*100)//train_size + 1\n",
    "    \n",
    "    # Chargement d'un batch d'images et de réponses correctes correspondantes\n",
    "    batch_train_X  = x_train[(i*100)%train_size:((i+1)*100)%train_size]\n",
    "    batch_train_Y_ = y_train[(i*100)%train_size:((i+1)*100)%train_size]\n",
    "    # Dictionnaire de données en entrée\n",
    "    train_data = {X: batch_train_X, Y_: batch_train_Y_, dropout_rate:0.25}\n",
    "\n",
    "    # train\n",
    "    sess.run(train_step, feed_dict=train_data)\n",
    "    \n",
    "    # Visualisation de la progression\n",
    "    if not (i*100)%(train_size):\n",
    "        #Affichage de l'évolution en ligne\n",
    "        print(epoch, ' ', end='')\n",
    "    if not i%50:\n",
    "        # Pour le batch d'entraînement\n",
    "        acc, loss  = sess.run([accuracy, cross_entropy], feed_dict=train_data)\n",
    "        accuracy_train.append(acc)\n",
    "        loss_train.append(loss/batch_size)\n",
    "        \n",
    "        # Pour le test: évaluation sur tout l'ensemble des données\n",
    "        test_data = {X: x_test, Y_: y_test, dropout_rate:0}\n",
    "        acc, loss = sess.run([accuracy, cross_entropy], feed_dict=test_data)\n",
    "        accuracy_test.append(acc)\n",
    "        loss_test.append(loss/test_size)\n",
    "        if acc>accuracy_best:\n",
    "            accuracy_best = acc\n",
    "            i_best = i"
   ]
  },
  {
   "cell_type": "code",
   "execution_count": 34,
   "metadata": {},
   "outputs": [
    {
     "data": {
      "image/png": "[encoded data removed]",
      "text/plain": [
       "<Figure size 432x288 with 1 Axes>"
      ]
     },
     "metadata": {
      "needs_background": "light"
     },
     "output_type": "display_data"
    },
    {
     "data": {
      "image/png": "[encoded data removed]",
      "text/plain": [
       "<Figure size 432x288 with 1 Axes>"
      ]
     },
     "metadata": {
      "needs_background": "light"
     },
     "output_type": "display_data"
    },
    {
     "name": "stdout",
     "output_type": "stream",
     "text": [
      "Best score for iteration 16200 \t| Accuracy = 0.9841\n"
     ]
    }
   ],
   "source": [
    "# Représentation des résultats\n",
    "# Précision\n",
    "plt.plot(accuracy_test, c='coral', label='test')\n",
    "plt.plot(accuracy_train, c='steelblue', label='train')\n",
    "plt.xlabel('i//50')\n",
    "plt.title('Précision')\n",
    "plt.legend(bbox_to_anchor=(1.05, 1), loc='upper left', borderaxespad=0.)\n",
    "plt.show()\n",
    "# Fonction de coût\n",
    "plt.plot(loss_test, c='coral', label='test')\n",
    "plt.plot(loss_train, c='steelblue', label='train')\n",
    "plt.title('Entropie croisée moyenne')\n",
    "plt.legend(bbox_to_anchor=(1.05, 1), loc='upper left', borderaxespad=0.)\n",
    "plt.show()\n",
    "# Meilleur résultat sur un batch de test\n",
    "print(\"Best score for iteration {} \\t| Accuracy = {:.4f}\".format(i_best, accuracy_best ))"
   ]
  },
  {
   "cell_type": "code",
   "execution_count": 35,
   "metadata": {},
   "outputs": [],
   "source": [
    "sess.close()"
   ]
  },
  {
   "cell_type": "markdown",
   "metadata": {},
   "source": [
    "La progression est plus chaotique, mais on n'observe plus de divergence entre l'entropie des deux jeux de données. Par contre il n'y a pas d'amélioration notable par rapport au test précédent."
   ]
  },
  {
   "cell_type": "code",
   "execution_count": null,
   "metadata": {},
   "outputs": [],
   "source": []
  }
 ],
 "metadata": {
  "kernelspec": {
   "display_name": "Python 3",
   "language": "python",
   "name": "python3"
  },
  "language_info": {
   "codemirror_mode": {
    "name": "ipython",
    "version": 3
   },
   "file_extension": ".py",
   "mimetype": "text/x-python",
   "name": "python",
   "nbconvert_exporter": "python",
   "pygments_lexer": "ipython3",
   "version": "3.7.1"
  }
 },
 "nbformat": 4,
 "nbformat_minor": 2
}
